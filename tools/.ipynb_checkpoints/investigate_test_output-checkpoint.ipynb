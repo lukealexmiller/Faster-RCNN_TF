{
 "cells": [
  {
   "cell_type": "code",
   "execution_count": 2,
   "metadata": {
    "collapsed": false
   },
   "outputs": [],
   "source": [
    "import _init_paths\n",
    "import tensorflow as tf\n",
    "from fast_rcnn.config import cfg\n",
    "from fast_rcnn.test import im_detect\n",
    "from fast_rcnn.nms_wrapper import nms\n",
    "from utils.timer import Timer\n",
    "import matplotlib.pyplot as plt\n",
    "import numpy as np\n",
    "import os, sys, cv2\n",
    "from networks.factory import get_network\n",
    "% matplotlib inline\n",
    "import cPickle\n",
    "import pandas as pd"
   ]
  },
  {
   "cell_type": "code",
   "execution_count": 85,
   "metadata": {
    "collapsed": false
   },
   "outputs": [],
   "source": [
    "results_path = \"/root/faster_rcnn/output/faster_rcnn_end2end/voc_2007_test\"\n",
    "results_file = os.path.join(results_path,'VGGnet_fast_rcnn_iter_%d','%s_basket_pr.pkl')"
   ]
  },
  {
   "cell_type": "code",
   "execution_count": 86,
   "metadata": {
    "collapsed": true
   },
   "outputs": [],
   "source": [
    "def load_ap_data(file_in):\n",
    "        \"\"\"\n",
    "        Loads results from pickle file and returns contents\n",
    "        \"\"\"\n",
    "        if os.path.exists(file_in):\n",
    "            with open(file_in, 'rb') as fid:\n",
    "                resdb = cPickle.load(fid)\n",
    "            return resdb"
   ]
  },
  {
   "cell_type": "code",
   "execution_count": 97,
   "metadata": {
    "collapsed": false
   },
   "outputs": [],
   "source": [
    "ap_empty = []\n",
    "ap_full = []\n",
    "iters = []\n",
    "for n_iter in range(1,21):\n",
    "    data_empty = load_ap_data(results_file%(n_iter*1000,'empty'))\n",
    "    data_full = load_ap_data(results_file%(n_iter*1000,'full'))\n",
    "    ap_empty.append(data_empty['ap'])\n",
    "    ap_full.append(data_full['ap'])\n",
    "    iters.append(n_iter)"
   ]
  },
  {
   "cell_type": "code",
   "execution_count": 105,
   "metadata": {
    "collapsed": false
   },
   "outputs": [
    {
     "data": {
      "image/png": "[encoded data removed]",
      "text/plain": [
       "<matplotlib.figure.Figure at 0x7f8dc9665610>"
      ]
     },
     "metadata": {},
     "output_type": "display_data"
    }
   ],
   "source": [
    "plt_empty = plt.plot(iters, ap_empty, color = 'blue')\n",
    "plt_full = plt.plot(iters, ap_full, color = 'red')\n",
    "plt.axis([0, 20, 0, 1])\n",
    "plt.show()"
   ]
  },
  {
   "cell_type": "code",
   "execution_count": null,
   "metadata": {
    "collapsed": true
   },
   "outputs": [],
   "source": []
  }
 ],
 "metadata": {
  "kernelspec": {
   "display_name": "Python 2",
   "language": "python",
   "name": "python2"
  },
  "language_info": {
   "codemirror_mode": {
    "name": "ipython",
    "version": 2
   },
   "file_extension": ".py",
   "mimetype": "text/x-python",
   "name": "python",
   "nbconvert_exporter": "python",
   "pygments_lexer": "ipython2",
   "version": "2.7.12"
  }
 },
 "nbformat": 4,
 "nbformat_minor": 2
}
