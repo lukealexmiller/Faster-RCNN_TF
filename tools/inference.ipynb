{
 "cells": [
  {
   "cell_type": "code",
   "execution_count": 8,
   "metadata": {
    "collapsed": false
   },
   "outputs": [
    {
     "ename": "SyntaxError",
     "evalue": "Missing parentheses in call to 'print' (train.py, line 36)",
     "output_type": "error",
     "traceback": [
      "\u001b[0;36m  File \u001b[0;32m\"/Users/LukeMiller/Git/tensorflow_faster_rcnn/tools/../lib/fast_rcnn/train.py\"\u001b[0;36m, line \u001b[0;32m36\u001b[0m\n\u001b[0;31m    print 'Computing bounding-box regression targets...'\u001b[0m\n\u001b[0m                                                       ^\u001b[0m\n\u001b[0;31mSyntaxError\u001b[0m\u001b[0;31m:\u001b[0m Missing parentheses in call to 'print'\n"
     ]
    }
   ],
   "source": [
    "import _init_paths\n",
    "import tensorflow as tf\n",
    "from fast_rcnn.config import cfg\n",
    "from fast_rcnn.test import im_detect\n",
    "from fast_rcnn.nms_wrapper import nms\n",
    "from utils.timer import Timer\n",
    "import matplotlib.pyplot as plt\n",
    "import numpy as np\n",
    "import os, sys, cv2\n",
    "from networks.factory import get_network\n",
    "% matplotlib inline"
   ]
  },
  {
   "cell_type": "markdown",
   "metadata": {},
   "source": [
    "Define classes which are present in data"
   ]
  },
  {
   "cell_type": "code",
   "execution_count": 9,
   "metadata": {
    "collapsed": true
   },
   "outputs": [],
   "source": [
    "CLASSES = ('__background__',\n",
    "           'empty_basket', 'full_basket')"
   ]
  },
  {
   "cell_type": "code",
   "execution_count": null,
   "metadata": {
    "collapsed": true
   },
   "outputs": [],
   "source": [
    "def vis_detections(im, class_name, dets,ax, thresh=0.5):\n",
    "    \"\"\"Draw detected bounding boxes.\"\"\"\n",
    "    inds = np.where(dets[:, -1] >= thresh)[0]\n",
    "    if len(inds) == 0:\n",
    "        return\n",
    "\n",
    "    for i in inds:\n",
    "        bbox = dets[i, :4]\n",
    "        score = dets[i, -1]\n",
    "\n",
    "        ax.add_patch(\n",
    "            plt.Rectangle((bbox[0], bbox[1]),\n",
    "                          bbox[2] - bbox[0],\n",
    "                          bbox[3] - bbox[1], fill=False,\n",
    "                          edgecolor='red', linewidth=3.5)\n",
    "            )\n",
    "        ax.text(bbox[0], bbox[1] - 2,\n",
    "                '{:s} {:.3f}'.format(class_name, score),\n",
    "                bbox=dict(facecolor='blue', alpha=0.5),\n",
    "                fontsize=14, color='white')\n",
    "\n",
    "    ax.set_title(('{} detections with '\n",
    "                  'p({} | box) >= {:.1f}').format(class_name, class_name,\n",
    "                                                  thresh),\n",
    "                  fontsize=14)\n",
    "    plt.axis('off')\n",
    "    plt.tight_layout()\n",
    "    plt.draw()"
   ]
  },
  {
   "cell_type": "code",
   "execution_count": null,
   "metadata": {
    "collapsed": true
   },
   "outputs": [],
   "source": [
    "def demo(sess, net, image_name):\n",
    "    \"\"\"Detect object classes in an image using pre-computed object proposals.\"\"\"\n",
    "\n",
    "    # Load the demo image\n",
    "    im_file = os.path.join(cfg.DATA_DIR, 'demo', image_name)\n",
    "    #im_file = os.path.join('/home/corgi/Lab/label/pos_frame/ACCV/training/000001/',image_name)\n",
    "    im = cv2.imread(im_file)\n",
    "\n",
    "    # Detect all object classes and regress object bounds\n",
    "    timer = Timer()\n",
    "    timer.tic()\n",
    "    scores, boxes = im_detect(sess, net, im)\n",
    "    timer.toc()\n",
    "    print ('Detection took {:.3f}s for '\n",
    "           '{:d} object proposals').format(timer.total_time, boxes.shape[0])\n",
    "\n",
    "    # Visualize detections for each class\n",
    "    im = im[:, :, (2, 1, 0)]\n",
    "    fig, ax = plt.subplots(figsize=(12, 12))\n",
    "    ax.imshow(im, aspect='equal')\n",
    "\n",
    "    CONF_THRESH = 0.8\n",
    "    NMS_THRESH = 0.3\n",
    "    for cls_ind, cls in enumerate(CLASSES[1:]):\n",
    "        cls_ind += 1 # because we skipped background\n",
    "        cls_boxes = boxes[:, 4*cls_ind:4*(cls_ind + 1)]\n",
    "        cls_scores = scores[:, cls_ind]\n",
    "        dets = np.hstack((cls_boxes,\n",
    "                          cls_scores[:, np.newaxis])).astype(np.float32)\n",
    "        keep = nms(dets, NMS_THRESH)\n",
    "        dets = dets[keep, :]\n",
    "        vis_detections(im, cls, dets, ax, thresh=CONF_THRESH)"
   ]
  },
  {
   "cell_type": "code",
   "execution_count": null,
   "metadata": {
    "collapsed": true
   },
   "outputs": [],
   "source": [
    "cfg.TEST.HAS_RPN = True  # Use RPN for proposals\n",
    "\n",
    "gpu, inference_net, weights = 0, 'faster_rcnn', 'VGG16'\n",
    "        \n",
    "# init session\n",
    "sess = tf.Session(config=tf.ConfigProto(allow_soft_placement=True))\n",
    "# load network\n",
    "net = get_network(inference_net)\n",
    "# load model\n",
    "saver = tf.train.Saver()\n",
    "saver.restore(sess, weights)\n",
    "#sess.run(tf.initialize_all_variables())\n",
    "\n",
    "print '\\n\\nLoaded network {:s}'.format(weights)\n",
    "\n",
    "# Warmup on a dummy image\n",
    "im = 128 * np.ones((300, 300, 3), dtype=np.uint8)\n",
    "for i in xrange(2):\n",
    "    _, _= im_detect(sess, net, im)\n",
    "\n",
    "im_names = ['000456.jpg', '000542.jpg', '001150.jpg',\n",
    "            '001763.jpg', '004545.jpg']\n",
    "\n",
    "\n",
    "for im_name in im_names:\n",
    "    print '~~~~~~~~~~~~~~~~~~~~~~~~~~~~~~~~~~~'\n",
    "    print 'Demo for data/demo/{}'.format(im_name)\n",
    "    demo(sess, net, im_name)\n",
    "\n",
    "plt.show()"
   ]
  }
 ],
 "metadata": {
  "anaconda-cloud": {},
  "kernelspec": {
   "display_name": "Python [conda root]",
   "language": "python",
   "name": "conda-root-py"
  },
  "language_info": {
   "codemirror_mode": {
    "name": "ipython",
    "version": 3
   },
   "file_extension": ".py",
   "mimetype": "text/x-python",
   "name": "python",
   "nbconvert_exporter": "python",
   "pygments_lexer": "ipython3",
   "version": "3.5.2"
  }
 },
 "nbformat": 4,
 "nbformat_minor": 1
}
